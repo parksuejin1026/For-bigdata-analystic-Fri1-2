{
 "cells": [
  {
   "cell_type": "code",
   "execution_count": 1,
   "metadata": {},
   "outputs": [
    {
     "name": "stdout",
     "output_type": "stream",
     "text": [
      "i =  h\n",
      "i =  e\n",
      "i =  l\n",
      "i =  l\n",
      "i =  o\n"
     ]
    }
   ],
   "source": [
    "for i in \"hello\":\n",
    "    print(\"i = \" , i)"
   ]
  },
  {
   "cell_type": "code",
   "execution_count": 4,
   "metadata": {},
   "outputs": [
    {
     "name": "stdout",
     "output_type": "stream",
     "text": [
      "9 * 1 = 9\n",
      "9 * 2 = 18\n",
      "9 * 3 = 27\n",
      "9 * 4 = 36\n",
      "9 * 5 = 45\n"
     ]
    }
   ],
   "source": [
    "for i in [1,2,3,4,5]:\n",
    "    print(f\"9 * {i} = {9 * i}\")"
   ]
  },
  {
   "cell_type": "code",
   "execution_count": 6,
   "metadata": {},
   "outputs": [
    {
     "name": "stdout",
     "output_type": "stream",
     "text": [
      "반복해요\n",
      "이 일도 반복해요\n",
      "반복해요\n",
      "이 일도 반복해요\n",
      "반복해요\n",
      "이 일도 반복해요\n",
      "반복해요\n",
      "이 일도 반복해요\n",
      "반복해요\n",
      "이 일도 반복해요\n"
     ]
    }
   ],
   "source": [
    "for i in range(5):\n",
    "    print(\"반복해요\")\n",
    "    print(\"이 일도 반복해요\")"
   ]
  },
  {
   "cell_type": "code",
   "execution_count": 7,
   "metadata": {},
   "outputs": [
    {
     "name": "stdout",
     "output_type": "stream",
     "text": [
      "파이썬 주식회사의\n",
      "방문을 환영합니다!\n",
      "파이썬 주식회사의\n",
      "방문을 환영합니다!\n",
      "파이썬 주식회사의\n",
      "방문을 환영합니다!\n"
     ]
    }
   ],
   "source": [
    "for i in range(3):\n",
    "    print(\"파이썬 주식회사의\")\n",
    "    print(\"방문을 환영합니다!\")"
   ]
  },
  {
   "cell_type": "code",
   "execution_count": 8,
   "metadata": {},
   "outputs": [
    {
     "data": {
      "text/plain": [
       "[0, 1, 2, 3, 4, 5, 6, 7, 8, 9]"
      ]
     },
     "execution_count": 8,
     "metadata": {},
     "output_type": "execute_result"
    }
   ],
   "source": [
    "list(range(10))"
   ]
  },
  {
   "cell_type": "code",
   "execution_count": null,
   "metadata": {},
   "outputs": [],
   "source": [
    "#1. 반복을 이용하여 팩토리얼 계산하기\n",
    "n = int(input(\"정수를 입력하시오: \"))\n",
    "fact = 1\n",
    "for i in range(1, n+1):\n",
    "    fact = fact * i"
   ]
  },
  {
   "cell_type": "code",
   "execution_count": 1,
   "metadata": {},
   "outputs": [
    {
     "name": "stdout",
     "output_type": "stream",
     "text": [
      "** 로그인 성공 **\n"
     ]
    }
   ],
   "source": [
    "# 과제 2번\n",
    "password = \"\"\n",
    "while password != \"pythonisfun\":\n",
    "    password = input(\"암호를 입력하시오: \")\n",
    "\n",
    "print(\"** 로그인 성공 **\")"
   ]
  },
  {
   "cell_type": "code",
   "execution_count": 5,
   "metadata": {},
   "outputs": [
    {
     "name": "stdout",
     "output_type": "stream",
     "text": [
      "** 로그인 성공 **\n",
      "** 로그인 성공 **\n",
      "** 로그인 성공 **\n",
      "** 로그인 성공 **\n",
      "로그인 시도 5번을 초과했습니다.\n",
      "5분 후에 다시 시도해주세요\n"
     ]
    }
   ],
   "source": [
    "password = \"\"\n",
    "count = 0\n",
    "while password != \"pythonisfun\":\n",
    "    password = input(\"암호를 입력하시오: \")\n",
    "    count += 1\n",
    "    if count==5:\n",
    "        print(\"로그인 시도 5번을 초과했습니다.\")\n",
    "        print(\"5분 후에 다시 시도해주세요\")\n",
    "        break\n",
    "    if password != \"pythonisfun\":\n",
    "        print(\"** 로그인 성공 **\")"
   ]
  },
  {
   "cell_type": "code",
   "execution_count": 6,
   "metadata": {},
   "outputs": [
    {
     "name": "stdout",
     "output_type": "stream",
     "text": [
      "9 * 1 = 9\n",
      "9 * 2 = 18\n",
      "9 * 3 = 27\n",
      "9 * 4 = 36\n",
      "9 * 5 = 45\n",
      "9 * 6 = 54\n",
      "9 * 7 = 63\n",
      "9 * 8 = 72\n",
      "9 * 9 = 81\n"
     ]
    }
   ],
   "source": [
    "#4. 구구단 \n",
    "dan = int(input(\"원하는 단은 : \"))\n",
    "i = 1 \n",
    "\n",
    "while i <= 9:\n",
    "    print(\"%s * %s = %s\" % (dan, i, dan * i))\n",
    "    i = i + 1"
   ]
  },
  {
   "cell_type": "code",
   "execution_count": null,
   "metadata": {},
   "outputs": [],
   "source": [
    "sum = 0\n",
    "for i in range(1,11):\n",
    "    sum = sum + i\n",
    "\n",
    "print(\"1~10까지의 합 = \", sum)\n",
    "\n",
    "# 1~10까지 for문"
   ]
  },
  {
   "cell_type": "code",
   "execution_count": 8,
   "metadata": {},
   "outputs": [
    {
     "name": "stdout",
     "output_type": "stream",
     "text": [
      "16 + 5 = "
     ]
    },
    {
     "ename": "ValueError",
     "evalue": "invalid literal for int() with base 10: ''",
     "output_type": "error",
     "traceback": [
      "\u001b[1;31m---------------------------------------------------------------------------\u001b[0m",
      "\u001b[1;31mValueError\u001b[0m                                Traceback (most recent call last)",
      "Cell \u001b[1;32mIn[8], line 7\u001b[0m\n\u001b[0;32m      5\u001b[0m y \u001b[38;5;241m=\u001b[39m random\u001b[38;5;241m.\u001b[39mrandint(\u001b[38;5;241m1\u001b[39m,\u001b[38;5;241m100\u001b[39m)\n\u001b[0;32m      6\u001b[0m \u001b[38;5;28mprint\u001b[39m(x, \u001b[38;5;124m'\u001b[39m\u001b[38;5;124m+\u001b[39m\u001b[38;5;124m'\u001b[39m, y, \u001b[38;5;124m'\u001b[39m\u001b[38;5;124m=\u001b[39m\u001b[38;5;124m'\u001b[39m, end \u001b[38;5;241m=\u001b[39m \u001b[38;5;124m'\u001b[39m\u001b[38;5;124m \u001b[39m\u001b[38;5;124m'\u001b[39m)\n\u001b[1;32m----> 7\u001b[0m answer \u001b[38;5;241m=\u001b[39m \u001b[38;5;28mint\u001b[39m(\u001b[38;5;28minput\u001b[39m())\n\u001b[0;32m      8\u001b[0m \u001b[38;5;28;01mif\u001b[39;00m answer \u001b[38;5;241m==\u001b[39m x \u001b[38;5;241m+\u001b[39m y:\n\u001b[0;32m      9\u001b[0m     \u001b[38;5;28mprint\u001b[39m(\u001b[38;5;124m\"\u001b[39m\u001b[38;5;124m잘했어요!\u001b[39m\u001b[38;5;124m\"\u001b[39m)\n",
      "\u001b[1;31mValueError\u001b[0m: invalid literal for int() with base 10: ''"
     ]
    }
   ],
   "source": [
    "#5. 암산 문제\n",
    "import random\n",
    "\n",
    "while True:\n",
    "    x = random.randint(1,100) \n",
    "    y = random.randint(1,100)\n",
    "    print(x, '+', y, '=', end = ' ')\n",
    "    answer = int(input())\n",
    "    if answer == x + y:\n",
    "        print(\"잘했어요!\")\n",
    "    else:\n",
    "        print(\"정답은\", x+y, \"입니다. 다음 번에는 잘할 수 있죠?\")"
   ]
  },
  {
   "cell_type": "code",
   "execution_count": 1,
   "metadata": {},
   "outputs": [
    {
     "name": "stdout",
     "output_type": "stream",
     "text": [
      "녹색 신호입니다. 전진하세요!\n"
     ]
    }
   ],
   "source": [
    "#6. 무한 루프와 break로 빠져나가기\n",
    "while True:\n",
    "    light = input(\"신호등 색상을 입력하시오 : \")\n",
    "    if light == 'green':\n",
    "        break\n",
    "\n",
    "print(\"녹색 신호입니다. 전진하세요!\")"
   ]
  },
  {
   "cell_type": "code",
   "execution_count": null,
   "metadata": {},
   "outputs": [],
   "source": [
    "st = 'I love Python Programing'\n",
    "for ch in st:\n",
    "    if ch in ['a','e','i','o','u', 'A','E','I','O','U']:\n",
    "        continue\n",
    "    print(ch, end= '')"
   ]
  },
  {
   "cell_type": "code",
   "execution_count": null,
   "metadata": {},
   "outputs": [],
   "source": [
    "#7. continue 사용\n",
    "st = 'I love Python Programing'\n",
    "for ch in st:\n",
    "    if ch in ['a','e','i','o','u', 'A','E','I','O','U']:\n",
    "        continue\n",
    "    print(ch, end= '')"
   ]
  },
  {
   "cell_type": "code",
   "execution_count": null,
   "metadata": {},
   "outputs": [],
   "source": [
    "#8. format() 메서드\n",
    "for i in range(2, 11, 2):\n",
    "    print('{0:3d} {1:4d} {2:5d}'.format(i, i *i , i*i*i))"
   ]
  }
 ],
 "metadata": {
  "kernelspec": {
   "display_name": "base",
   "language": "python",
   "name": "python3"
  },
  "language_info": {
   "codemirror_mode": {
    "name": "ipython",
    "version": 3
   },
   "file_extension": ".py",
   "mimetype": "text/x-python",
   "name": "python",
   "nbconvert_exporter": "python",
   "pygments_lexer": "ipython3",
   "version": "3.12.7"
  }
 },
 "nbformat": 4,
 "nbformat_minor": 2
}
