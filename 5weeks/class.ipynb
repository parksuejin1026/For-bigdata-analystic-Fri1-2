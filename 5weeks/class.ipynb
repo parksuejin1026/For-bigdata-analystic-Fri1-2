{
 "cells": [
  {
   "cell_type": "code",
   "execution_count": 1,
   "metadata": {},
   "outputs": [
    {
     "name": "stdout",
     "output_type": "stream",
     "text": [
      "i =  h\n",
      "i =  e\n",
      "i =  l\n",
      "i =  l\n",
      "i =  o\n"
     ]
    }
   ],
   "source": [
    "for i in \"hello\":\n",
    "    print(\"i = \" , i)"
   ]
  },
  {
   "cell_type": "code",
   "execution_count": 4,
   "metadata": {},
   "outputs": [
    {
     "name": "stdout",
     "output_type": "stream",
     "text": [
      "9 * 1 = 9\n",
      "9 * 2 = 18\n",
      "9 * 3 = 27\n",
      "9 * 4 = 36\n",
      "9 * 5 = 45\n"
     ]
    }
   ],
   "source": [
    "for i in [1,2,3,4,5]:\n",
    "    print(f\"9 * {i} = {9 * i}\")"
   ]
  },
  {
   "cell_type": "code",
   "execution_count": 6,
   "metadata": {},
   "outputs": [
    {
     "name": "stdout",
     "output_type": "stream",
     "text": [
      "반복해요\n",
      "이 일도 반복해요\n",
      "반복해요\n",
      "이 일도 반복해요\n",
      "반복해요\n",
      "이 일도 반복해요\n",
      "반복해요\n",
      "이 일도 반복해요\n",
      "반복해요\n",
      "이 일도 반복해요\n"
     ]
    }
   ],
   "source": [
    "for i in range(5):\n",
    "    print(\"반복해요\")\n",
    "    print(\"이 일도 반복해요\")"
   ]
  },
  {
   "cell_type": "code",
   "execution_count": 7,
   "metadata": {},
   "outputs": [
    {
     "name": "stdout",
     "output_type": "stream",
     "text": [
      "파이썬 주식회사의\n",
      "방문을 환영합니다!\n",
      "파이썬 주식회사의\n",
      "방문을 환영합니다!\n",
      "파이썬 주식회사의\n",
      "방문을 환영합니다!\n"
     ]
    }
   ],
   "source": [
    "for i in range(3):\n",
    "    print(\"파이썬 주식회사의\")\n",
    "    print(\"방문을 환영합니다!\")"
   ]
  },
  {
   "cell_type": "code",
   "execution_count": null,
   "metadata": {},
   "outputs": [],
   "source": []
  }
 ],
 "metadata": {
  "kernelspec": {
   "display_name": "base",
   "language": "python",
   "name": "python3"
  },
  "language_info": {
   "codemirror_mode": {
    "name": "ipython",
    "version": 3
   },
   "file_extension": ".py",
   "mimetype": "text/x-python",
   "name": "python",
   "nbconvert_exporter": "python",
   "pygments_lexer": "ipython3",
   "version": "3.12.7"
  }
 },
 "nbformat": 4,
 "nbformat_minor": 2
}
