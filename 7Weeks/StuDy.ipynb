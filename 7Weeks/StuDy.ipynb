{
 "cells": [
  {
   "cell_type": "markdown",
   "metadata": {},
   "source": [
    "### any() 함수 리스트에 참인 원소가 하나라도 있으면 True 반환\n",
    "### all() 함수 리스트의 모든 원소가 참일 때 True 반환"
   ]
  },
  {
   "cell_type": "code",
   "execution_count": 3,
   "metadata": {},
   "outputs": [
    {
     "name": "stdout",
     "output_type": "stream",
     "text": [
      "True True False\n"
     ]
    },
    {
     "data": {
      "text/plain": [
       "(True, False, False)"
      ]
     },
     "execution_count": 3,
     "metadata": {},
     "output_type": "execute_result"
    }
   ],
   "source": [
    "a_list = [10, 20, 30]\n",
    "b_list = [0, 10, 20, 30]\n",
    "c_list = [0, '']\n",
    "\n",
    "print(any(a_list), any(b_list), any(c_list))\n",
    "all(a_list), all(b_list), all(c_list)"
   ]
  },
  {
   "cell_type": "code",
   "execution_count": 4,
   "metadata": {},
   "outputs": [
    {
     "name": "stdout",
     "output_type": "stream",
     "text": [
      "이 과일은 당신이 좋아하는 과일입니다.\n"
     ]
    }
   ],
   "source": [
    "# 1번 문제\n",
    "fruits_list = []\n",
    "count = 0\n",
    "for i in range(3):\n",
    "    name = input(\"좋아하는 과일 이름을 입력하시오 : \")\n",
    "    fruits_list.append(name)\n",
    "\n",
    "name = input(\"과일의 이름을 입력하세요 : \")\n",
    "if name in fruits_list:\n",
    "    print(\"이 과일은 당신이 좋아하는 과일입니다.\")\n",
    "else:\n",
    "    print(\"이 과일은 당신이 좋아하는 과일이 아닙니다.\")\n"
   ]
  },
  {
   "cell_type": "code",
   "execution_count": 3,
   "metadata": {},
   "outputs": [
    {
     "data": {
      "text/plain": [
       "['A', 'B', 'C', 'D', 'E', 'F']"
      ]
     },
     "execution_count": 3,
     "metadata": {},
     "output_type": "execute_result"
    }
   ],
   "source": [
    "letters = ['A', 'B', 'C', 'D', 'E', 'F']\n",
    "\n",
    "# 인덱싱\n",
    "letters[0] # 0 출력\n",
    "\n",
    "letters[2:5] # 2~4까지 출력\n",
    "\n",
    "letters[:3] # 0~2까지 출력\n",
    "\n",
    "letters[3:] # 3~마지막까지 출력 5까지\n",
    "\n",
    "letters[:] # 전부 출력"
   ]
  },
  {
   "cell_type": "code",
   "execution_count": 5,
   "metadata": {},
   "outputs": [
    {
     "data": {
      "text/plain": [
       "[175.0, 'Lee']"
      ]
     },
     "execution_count": 5,
     "metadata": {},
     "output_type": "execute_result"
    }
   ],
   "source": [
    "slist = ['Kim', 178.9, 'Park', 173.5, 'Lee', 176.1]\n",
    "\n",
    "slist[3] = 175.0 # 3번 인덱스에 175.0 집어넣기\n",
    "slist\n",
    "slist[3:5] # 3번부터 4번까지 출력"
   ]
  },
  {
   "cell_type": "code",
   "execution_count": 6,
   "metadata": {},
   "outputs": [
    {
     "data": {
      "text/plain": [
       "['Hong', 168.1]"
      ]
     },
     "execution_count": 6,
     "metadata": {},
     "output_type": "execute_result"
    }
   ],
   "source": [
    "slist.insert(4, 'Hong') # insert 함수는 이런식으로 (원하는 인덱스, 변경할 내용 방식으로 작성)\n",
    "slist.insert(5, 168.1) \n",
    "slist[4:6]"
   ]
  },
  {
   "cell_type": "code",
   "execution_count": null,
   "metadata": {},
   "outputs": [],
   "source": []
  }
 ],
 "metadata": {
  "kernelspec": {
   "display_name": "base",
   "language": "python",
   "name": "python3"
  },
  "language_info": {
   "codemirror_mode": {
    "name": "ipython",
    "version": 3
   },
   "file_extension": ".py",
   "mimetype": "text/x-python",
   "name": "python",
   "nbconvert_exporter": "python",
   "pygments_lexer": "ipython3",
   "version": "3.12.7"
  }
 },
 "nbformat": 4,
 "nbformat_minor": 2
}
