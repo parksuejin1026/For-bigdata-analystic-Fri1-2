{
 "cells": [
  {
   "cell_type": "markdown",
   "metadata": {},
   "source": [
    "### any() 함수 리스트에 참인 원소가 하나라도 있으면 True 반환\n",
    "### all() 함수 리스트의 모든 원소가 참일 때 True 반환"
   ]
  },
  {
   "cell_type": "code",
   "execution_count": 3,
   "metadata": {},
   "outputs": [
    {
     "name": "stdout",
     "output_type": "stream",
     "text": [
      "True True False\n"
     ]
    },
    {
     "data": {
      "text/plain": [
       "(True, False, False)"
      ]
     },
     "execution_count": 3,
     "metadata": {},
     "output_type": "execute_result"
    }
   ],
   "source": [
    "a_list = [10, 20, 30]\n",
    "b_list = [0, 10, 20, 30]\n",
    "c_list = [0, '']\n",
    "\n",
    "print(any(a_list), any(b_list), any(c_list))\n",
    "all(a_list), all(b_list), all(c_list)"
   ]
  },
  {
   "cell_type": "code",
   "execution_count": 4,
   "metadata": {},
   "outputs": [
    {
     "name": "stdout",
     "output_type": "stream",
     "text": [
      "이 과일은 당신이 좋아하는 과일입니다.\n"
     ]
    }
   ],
   "source": [
    "# 1번 문제\n",
    "fruits_list = []\n",
    "count = 0\n",
    "for i in range(3):\n",
    "    name = input(\"좋아하는 과일 이름을 입력하시오 : \")\n",
    "    fruits_list.append(name)\n",
    "\n",
    "name = input(\"과일의 이름을 입력하세요 : \")\n",
    "if name in fruits_list:\n",
    "    print(\"이 과일은 당신이 좋아하는 과일입니다.\")\n",
    "else:\n",
    "    print(\"이 과일은 당신이 좋아하는 과일이 아닙니다.\")\n"
   ]
  },
  {
   "cell_type": "code",
   "execution_count": 3,
   "metadata": {},
   "outputs": [
    {
     "data": {
      "text/plain": [
       "['A', 'B', 'C', 'D', 'E', 'F']"
      ]
     },
     "execution_count": 3,
     "metadata": {},
     "output_type": "execute_result"
    }
   ],
   "source": [
    "letters = ['A', 'B', 'C', 'D', 'E', 'F']\n",
    "\n",
    "# 인덱싱\n",
    "letters[0] # 0 출력\n",
    "\n",
    "letters[2:5] # 2~4까지 출력\n",
    "\n",
    "letters[:3] # 0~2까지 출력\n",
    "\n",
    "letters[3:] # 3~마지막까지 출력 5까지\n",
    "\n",
    "letters[:] # 전부 출력"
   ]
  },
  {
   "cell_type": "code",
   "execution_count": 5,
   "metadata": {},
   "outputs": [
    {
     "data": {
      "text/plain": [
       "[175.0, 'Lee']"
      ]
     },
     "execution_count": 5,
     "metadata": {},
     "output_type": "execute_result"
    }
   ],
   "source": [
    "slist = ['Kim', 178.9, 'Park', 173.5, 'Lee', 176.1]\n",
    "\n",
    "slist[3] = 175.0 # 3번 인덱스에 175.0 집어넣기\n",
    "slist\n",
    "slist[3:5] # 3번부터 4번까지 출력"
   ]
  },
  {
   "cell_type": "code",
   "execution_count": 6,
   "metadata": {},
   "outputs": [
    {
     "data": {
      "text/plain": [
       "['Hong', 168.1]"
      ]
     },
     "execution_count": 6,
     "metadata": {},
     "output_type": "execute_result"
    }
   ],
   "source": [
    "slist.insert(4, 'Hong') # insert 함수는 이런식으로 (원하는 인덱스, 변경할 내용 방식으로 작성)\n",
    "slist.insert(5, 168.1) \n",
    "slist[4:6]"
   ]
  },
  {
   "cell_type": "code",
   "execution_count": null,
   "metadata": {},
   "outputs": [],
   "source": [
    "bts = ['V', 'J-Hope', 'Suga', 'Jungkook']\n",
    "for member in bts:\n",
    "    print(member)"
   ]
  },
  {
   "cell_type": "code",
   "execution_count": 7,
   "metadata": {},
   "outputs": [
    {
     "name": "stdout",
     "output_type": "stream",
     "text": [
      "1\n"
     ]
    }
   ],
   "source": [
    "# sorted() 메서드는 정렬된 새로운 리스트가  필요할 때 사용\n",
    "\n",
    "num_list = [243,2,24,24,24,24,24,245,34463,34,6,433,7437,434,363426,32,1,515,15,15,23,15]\n",
    "\n",
    "num_list.sort()\n",
    "\n",
    "print(num_list[0])\n"
   ]
  },
  {
   "cell_type": "markdown",
   "metadata": {},
   "source": [
    "## 새로운 리스트 alist를 만들면 alist에서는 원소를 담고 있지않고 리스트의 저장 위치 주소를 가짐 따라서 객체를 가지고 있는 것이 아닌 객체를 참조하는 것 "
   ]
  },
  {
   "cell_type": "code",
   "execution_count": 17,
   "metadata": {},
   "outputs": [
    {
     "data": {
      "text/plain": [
       "[0, 2, 4, 6, 8]"
      ]
     },
     "execution_count": 17,
     "metadata": {},
     "output_type": "execute_result"
    }
   ],
   "source": [
    "# 컴프리핸션\n",
    "\n",
    "[x ** 2 for x in [1,2,4,5,6,7]] # 맨 앞에 코드를 출력하는 의미\n",
    "[x * x for x in range(10)]\n",
    "st = 'Hello World'\n",
    "[x.upper() for x in st]\n",
    "\n",
    "[x for x in range(10) if x % 2 == 0] ## 0부터 9까지 리스트를 만드는데 2로 나누었을때 나머지가 0인 수만 출력"
   ]
  },
  {
   "cell_type": "code",
   "execution_count": 13,
   "metadata": {},
   "outputs": [
    {
     "data": {
      "text/plain": [
       "['박', '방', '최', '이', '나']"
      ]
     },
     "execution_count": 13,
     "metadata": {},
     "output_type": "execute_result"
    }
   ],
   "source": [
    "b = ['박','김','최','이','나']\n",
    "a = b\n",
    "b[1] = '방'\n",
    "a\n",
    "# 이거 시험 나올듯"
   ]
  },
  {
   "cell_type": "code",
   "execution_count": null,
   "metadata": {},
   "outputs": [],
   "source": []
  },
  {
   "cell_type": "code",
   "execution_count": null,
   "metadata": {},
   "outputs": [],
   "source": []
  }
 ],
 "metadata": {
  "kernelspec": {
   "display_name": "base",
   "language": "python",
   "name": "python3"
  },
  "language_info": {
   "codemirror_mode": {
    "name": "ipython",
    "version": 3
   },
   "file_extension": ".py",
   "mimetype": "text/x-python",
   "name": "python",
   "nbconvert_exporter": "python",
   "pygments_lexer": "ipython3",
   "version": "3.12.7"
  }
 },
 "nbformat": 4,
 "nbformat_minor": 2
}
