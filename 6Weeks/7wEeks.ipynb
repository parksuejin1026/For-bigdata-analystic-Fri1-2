{
 "cells": [
  {
   "cell_type": "code",
   "execution_count": null,
   "metadata": {
    "vscode": {
     "languageId": "plaintext"
    }
   },
   "outputs": [],
   "source": [
    "\n",
    "## 이름 : 박수진\n",
    "## 학과 : 인공지능소프트웨어학과\n",
    "\n",
    "# 1. 과일 리스트 \n",
    "\n",
    "fruits_list = []\n",
    "count = 0\n",
    "for i in range(3):\n",
    "    name = input(\"좋아하는 과일 이름을 입력하시오 : \")\n",
    "    fruits_list.append(name)\n",
    "\n",
    "name = input(\"과일의 이름을 입력하세요 : \")\n",
    "if name in fruits_list:\n",
    "    print(\"이 과일은 당신이 좋아하는 과일입니다.\")\n",
    "else:\n",
    "    print(\"이 과일은 당신이 좋아하는 과일이 아닙니다.\")\n",
    "\n",
    "# 2. 도시 인구 자료\n",
    "\n",
    "population = ['Seoul', 9765, 'Busan', 3441, 'Incheon', 2954] # 도시 인구 자료 리스트 생성\n",
    "\n",
    "print('서울 인구 : ', population[1]) # 1번 인덱스\n",
    "print('인천 인구 : ', population[-1]) # 마지막 인덱스인 5번 인덱스 출력\n",
    "\n",
    "cities = population[0::2] # 0번 인덱스부터 2칸씩 띄어서 출력 도시만 출력\n",
    "print('도시 리스트 : ',cities)\n",
    "pops = population[1::2] # 1번 인덱스부터 2칸씩 띄어서 출력 인구만 출력\n",
    "print('인구 총 합계', sum(pops)) \n",
    "\n",
    "# 3. pop() 메서드\n",
    "\n",
    "lst = [0, 10, 20, 30, 40, 50]\n"
   ]
  },
  {
   "cell_type": "code",
   "execution_count": null,
   "metadata": {
    "vscode": {
     "languageId": "plaintext"
    }
   },
   "outputs": [],
   "source": [
    "\n",
    "## 이름 : 박수진\n",
    "## 학과 : 인공지능소프트웨어학과\n",
    "\n",
    "# 1. 과일 리스트 \n",
    "\n",
    "fruits_list = []\n",
    "count = 0\n",
    "for i in range(3):\n",
    "    name = input(\"좋아하는 과일 이름을 입력하시오 : \")\n",
    "    fruits_list.append(name)\n",
    "\n",
    "name = input(\"과일의 이름을 입력하세요 : \")\n",
    "if name in fruits_list:\n",
    "    print(\"이 과일은 당신이 좋아하는 과일입니다.\")\n",
    "else:\n",
    "    print(\"이 과일은 당신이 좋아하는 과일이 아닙니다.\")\n",
    "\n",
    "# 2. 도시 인구 자료\n",
    "\n",
    "population = ['Seoul', 9765, 'Busan', 3441, 'Incheon', 2954] # 도시 인구 자료 리스트 생성\n",
    "\n",
    "print('서울 인구 : ', population[1]) # 1번 인덱스\n",
    "print('인천 인구 : ', population[-1]) # 마지막 인덱스인 5번 인덱스 출력\n",
    "\n",
    "cities = population[0::2] # 0번 인덱스부터 2칸씩 띄어서 출력 도시만 출력\n",
    "print('도시 리스트 : ',cities)\n",
    "pops = population[1::2] # 1번 인덱스부터 2칸씩 띄어서 출력 인구만 출력\n",
    "print('인구 총 합계', sum(pops)) \n",
    "\n",
    "# 3. pop() 메서드\n",
    "\n",
    "lst = [0, 10, 20, 30, 40, 50]\n",
    "lst5 = lst.pop()\n",
    "print(lst5, lst)\n",
    "lst1 = lst.pop(1)\n",
    "print(lst, lst1)\n"
   ]
  }
 ],
 "metadata": {
  "language_info": {
   "name": "python"
  }
 },
 "nbformat": 4,
 "nbformat_minor": 2
}
